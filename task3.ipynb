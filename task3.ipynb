{
 "cells": [
  {
   "cell_type": "code",
   "execution_count": null,
   "id": "78a38704",
   "metadata": {},
   "outputs": [],
   "source": [
    "import cv2\n",
    "import numpy as np"
   ]
  },
  {
   "cell_type": "code",
   "execution_count": null,
   "id": "3c7b7ede",
   "metadata": {},
   "outputs": [],
   "source": [
    "img = cv2.imread(\"C:\\\\Users\\\\aedpu\\\\OneDrive\\\\Pictures\\\\color.jpg\")"
   ]
  },
  {
   "cell_type": "code",
   "execution_count": null,
   "id": "b0b525bf",
   "metadata": {},
   "outputs": [],
   "source": [
    "color = cv2.bilateralFilter(img,9,250,250)"
   ]
  },
  {
   "cell_type": "code",
   "execution_count": null,
   "id": "4d74aed9",
   "metadata": {},
   "outputs": [],
   "source": [
    "gray = cv2.cvtColor(img, cv2.COLOR_BGR2GRAY)\n",
    "gray = cv2.medianBlur(gray, 5)"
   ]
  },
  {
   "cell_type": "code",
   "execution_count": null,
   "id": "380bb23e",
   "metadata": {},
   "outputs": [],
   "source": [
    "edges = cv2.adaptiveThreshold(gray, 255, cv2.ADAPTIVE_THRESH_MEAN_C,cv2.THRESH_BINARY,15,15)"
   ]
  },
  {
   "cell_type": "code",
   "execution_count": null,
   "id": "0d28c08d",
   "metadata": {},
   "outputs": [],
   "source": [
    "cartoon = cv2.bitwise_and(color, color,mask=edges)"
   ]
  },
  {
   "cell_type": "code",
   "execution_count": null,
   "id": "577d6911",
   "metadata": {},
   "outputs": [],
   "source": [
    "cv2.imshow(\"cartoon\",cartoon)\n",
    "cv2.imshow(\"Orginal\",img)\n",
    "cv2.imshow(\"drawing\",edges)\n",
    "cv2.waitKey(0)\n",
    "cv2.destroyAllWindows()"
   ]
  },
  {
   "cell_type": "code",
   "execution_count": null,
   "id": "1f631705",
   "metadata": {},
   "outputs": [],
   "source": []
  },
  {
   "cell_type": "code",
   "execution_count": null,
   "id": "1defc759-0c87-4e88-8406-3ff44a1a7218",
   "metadata": {},
   "outputs": [],
   "source": []
  },
  {
   "cell_type": "code",
   "execution_count": null,
   "id": "23093af1-8c02-498b-9e9f-fcbdb7181939",
   "metadata": {},
   "outputs": [],
   "source": []
  }
 ],
 "metadata": {
  "kernelspec": {
   "display_name": "Python 3 (ipykernel)",
   "language": "python",
   "name": "python3"
  },
  "language_info": {
   "codemirror_mode": {
    "name": "ipython",
    "version": 3
   },
   "file_extension": ".py",
   "mimetype": "text/x-python",
   "name": "python",
   "nbconvert_exporter": "python",
   "pygments_lexer": "ipython3",
   "version": "3.9.19"
  }
 },
 "nbformat": 4,
 "nbformat_minor": 5
}
