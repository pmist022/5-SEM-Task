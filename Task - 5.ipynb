{
 "cells": [
  {
   "cell_type": "code",
   "execution_count": 2,
   "id": "102b261f",
   "metadata": {},
   "outputs": [
    {
     "name": "stdout",
     "output_type": "stream",
     "text": [
      "Requirement already satisfied: opencv-python in c:\\programdata\\anaconda3\\lib\\site-packages (4.7.0.72)\n",
      "Requirement already satisfied: numpy>=1.17.3 in c:\\programdata\\anaconda3\\lib\\site-packages (from opencv-python) (1.21.5)\n",
      "Note: you may need to restart the kernel to use updated packages.\n"
     ]
    }
   ],
   "source": [
    "pip install opencv-python"
   ]
  },
  {
   "cell_type": "code",
   "execution_count": 3,
   "id": "29cda970",
   "metadata": {},
   "outputs": [],
   "source": [
    "import cv2\n",
    "import numpy as np"
   ]
  },
  {
   "cell_type": "markdown",
   "id": "daf1a021",
   "metadata": {},
   "source": [
    "# Erosion"
   ]
  },
  {
   "cell_type": "code",
   "execution_count": 34,
   "id": "a4dba051",
   "metadata": {},
   "outputs": [],
   "source": [
    "def erode_frame(frame):\n",
    "    kernel = np.ones((5, 5), np.uint8)\n",
    "    eroded_frame = cv2.erode(frame, kernel, iterations=1)\n",
    "    return eroded_frame\n",
    "\n",
    "video_path = 'C:\\\\Users\\\\aedpu\\\\Downloads\\\\play1.mp4' \n",
    "cap = cv2.VideoCapture(video_path)\n",
    "\n",
    "while cap.isOpened():\n",
    "    ret, frame = cap.read()\n",
    "    if not ret:\n",
    "        break \n",
    "\n",
    "    eroded_frame = erode_frame(frame)\n",
    "\n",
    "    cv2.imshow('Original Frame', frame)\n",
    "    cv2.imshow('Eroded Frame', eroded_frame)\n",
    "\n",
    "    if cv2.waitKey(30) & 0xFF == ord('q'):\n",
    "        break\n",
    "\n",
    "cap.release()\n",
    "cv2.destroyAllWindows()"
   ]
  },
  {
   "cell_type": "markdown",
   "id": "8d766bd8",
   "metadata": {},
   "source": [
    "# Dilation"
   ]
  },
  {
   "cell_type": "code",
   "execution_count": 35,
   "id": "d01efaa1",
   "metadata": {},
   "outputs": [],
   "source": [
    "def dilate_frame(frame):\n",
    "    kernel = np.ones((5, 5), np.uint8) \n",
    "    dilated_frame = cv2.dilate(frame, kernel, iterations=1) \n",
    "    return dilated_frame\n",
    "\n",
    "video_path ='C:\\\\Users\\\\aedpu\\\\Downloads\\\\play1.mp4'\n",
    "cap = cv2.VideoCapture(video_path)\n",
    "\n",
    "while cap.isOpened():\n",
    "    ret, frame = cap.read()\n",
    "    if not ret:\n",
    "        break \n",
    "\n",
    "    dilated_frame = dilate_frame(frame)\n",
    "\n",
    "    cv2.imshow('Original Frame', frame)\n",
    "    cv2.imshow('Dilated Frame', dilated_frame)\n",
    "\n",
    "    if cv2.waitKey(30) & 0xFF == ord('q'):\n",
    "        break\n",
    "cap.release()\n",
    "cv2.destroyAllWindows()"
   ]
  },
  {
   "cell_type": "markdown",
   "id": "2c06ec83",
   "metadata": {},
   "source": [
    "# Gradient"
   ]
  },
  {
   "cell_type": "code",
   "execution_count": 36,
   "id": "7d838214",
   "metadata": {},
   "outputs": [],
   "source": [
    "def morphological_gradient(frame):\n",
    "    kernel = np.ones((5, 5), np.uint8)  \n",
    "    dilated_frame = cv2.dilate(frame, kernel, iterations=1)  \n",
    "    eroded_frame = cv2.erode(frame, kernel, iterations=1)    \n",
    "    gradient_frame = cv2.subtract(dilated_frame, eroded_frame)  \n",
    "    return gradient_frame\n",
    "\n",
    "video_path ='C:\\\\Users\\\\aedpu\\\\Downloads\\\\play1.mp4'  \n",
    "cap = cv2.VideoCapture(video_path)\n",
    "\n",
    "while cap.isOpened():\n",
    "    ret, frame = cap.read()\n",
    "    if not ret:\n",
    "        break \n",
    "\n",
    "    gradient_frame = morphological_gradient(frame)\n",
    "\n",
    "    cv2.imshow('Original Frame', frame)\n",
    "    cv2.imshow('Morphological Gradient Frame', gradient_frame)\n",
    "\n",
    "    if cv2.waitKey(30) & 0xFF == ord('q'):\n",
    "        break\n",
    "\n",
    "cap.release()\n",
    "cv2.destroyAllWindows()"
   ]
  },
  {
   "cell_type": "markdown",
   "id": "0499a57e",
   "metadata": {},
   "source": [
    "# Close"
   ]
  },
  {
   "cell_type": "code",
   "execution_count": 37,
   "id": "9660dbdf",
   "metadata": {},
   "outputs": [],
   "source": [
    "input_video_path = 'C:\\\\Users\\\\aedpu\\\\Downloads\\\\play1.mp4'\n",
    "cap = cv2.VideoCapture(input_video_path)\n",
    "\n",
    "kernel = np.ones((5, 5), np.uint8)\n",
    "\n",
    "while cap.isOpened():\n",
    "    ret, frame = cap.read()\n",
    "    if not ret:\n",
    "        break\n",
    "    \n",
    "    gray_frame = cv2.cvtColor(frame, cv2.COLOR_BGR2GRAY)\n",
    "\n",
    "    _, binary_frame = cv2.threshold(gray_frame, 127, 255, cv2.THRESH_BINARY)\n",
    "\n",
    "    closed_frame = cv2.morphologyEx(binary_frame, cv2.MORPH_CLOSE, kernel)\n",
    "\n",
    "    cv2.imshow('Original Frame', frame)\n",
    "    cv2.imshow('Closed Frame', closed_frame)\n",
    "\n",
    "    if cv2.waitKey(30) & 0xFF == ord('q'):\n",
    "        break\n",
    "\n",
    "cap.release()\n",
    "cv2.destroyAllWindows()"
   ]
  },
  {
   "cell_type": "markdown",
   "id": "770da0ff",
   "metadata": {},
   "source": [
    "# Tophat"
   ]
  },
  {
   "cell_type": "code",
   "execution_count": 38,
   "id": "0bbd21e9",
   "metadata": {},
   "outputs": [],
   "source": [
    "input_video_path = 'C:\\\\Users\\\\aedpu\\\\Downloads\\\\play1.mp4'\n",
    "cap = cv2.VideoCapture(input_video_path)\n",
    "\n",
    "kernel = np.ones((5, 5), np.uint8)\n",
    "\n",
    "while cap.isOpened():\n",
    "    ret, frame = cap.read()\n",
    "    if not ret:\n",
    "        break\n",
    "    \n",
    "    gray_frame = cv2.cvtColor(frame, cv2.COLOR_BGR2GRAY)\n",
    "    \n",
    "    tophat_frame = cv2.morphologyEx(gray_frame, cv2.MORPH_TOPHAT, kernel)\n",
    "\n",
    "    cv2.imshow('Original Frame', frame)\n",
    "    cv2.imshow('Top-Hat Frame', tophat_frame)\n",
    "\n",
    "    if cv2.waitKey(30) & 0xFF == ord('q'):\n",
    "        break\n",
    "        \n",
    "cap.release()\n",
    "cv2.destroyAllWindows()"
   ]
  },
  {
   "cell_type": "markdown",
   "id": "962d5029",
   "metadata": {},
   "source": [
    "# Open"
   ]
  },
  {
   "cell_type": "code",
   "execution_count": 40,
   "id": "68632dd4",
   "metadata": {},
   "outputs": [],
   "source": [
    "input_video_path ='C:\\\\Users\\\\aedpu\\\\Downloads\\\\play1.mp4' \n",
    "cap = cv2.VideoCapture(input_video_path)\n",
    "\n",
    "kernel = np.ones((5, 5), np.uint8)\n",
    "\n",
    "while cap.isOpened():\n",
    "    ret, frame = cap.read()\n",
    "    if not ret:\n",
    "        break\n",
    "    \n",
    "    gray_frame = cv2.cvtColor(frame, cv2.COLOR_BGR2GRAY)\n",
    "\n",
    "    _, binary_frame = cv2.threshold(gray_frame, 127, 255, cv2.THRESH_BINARY)\n",
    "\n",
    "    opened_frame = cv2.morphologyEx(binary_frame, cv2.MORPH_OPEN, kernel)\n",
    "\n",
    "    cv2.imshow('Original Frame', frame)\n",
    "    cv2.imshow('Opened Frame', opened_frame)\n",
    "\n",
    "    if cv2.waitKey(30) & 0xFF == ord('q'):\n",
    "        break\n",
    "\n",
    "cap.release()\n",
    "cv2.destroyAllWindows()"
   ]
  },
  {
   "cell_type": "code",
   "execution_count": null,
   "id": "48f42df2",
   "metadata": {},
   "outputs": [],
   "source": []
  }
 ],
 "metadata": {
  "kernelspec": {
   "display_name": "Python 3 (ipykernel)",
   "language": "python",
   "name": "python3"
  },
  "language_info": {
   "codemirror_mode": {
    "name": "ipython",
    "version": 3
   },
   "file_extension": ".py",
   "mimetype": "text/x-python",
   "name": "python",
   "nbconvert_exporter": "python",
   "pygments_lexer": "ipython3",
   "version": "3.9.13"
  }
 },
 "nbformat": 4,
 "nbformat_minor": 5
}
